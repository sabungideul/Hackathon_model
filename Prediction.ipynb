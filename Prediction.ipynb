{
 "cells": [
  {
   "cell_type": "code",
   "execution_count": 1,
   "id": "5366ae93",
   "metadata": {
    "ExecuteTime": {
     "end_time": "2022-09-16T14:43:34.245039Z",
     "start_time": "2022-09-16T14:43:26.144779Z"
    }
   },
   "outputs": [],
   "source": [
    "import joblib\n",
    "from sklearn.ensemble import RandomForestClassifier\n",
    "import tensorflow as tf\n",
    "import numpy as np\n",
    "import cv2\n",
    "import matplotlib.pyplot as plt\n",
    "import requests\n",
    "import json"
   ]
  },
  {
   "cell_type": "markdown",
   "id": "f01991a3",
   "metadata": {},
   "source": [
    "# Load Posenet"
   ]
  },
  {
   "cell_type": "code",
   "execution_count": 2,
   "id": "5f76bf8b",
   "metadata": {
    "ExecuteTime": {
     "end_time": "2022-09-16T14:43:34.338268Z",
     "start_time": "2022-09-16T14:43:34.253041Z"
    }
   },
   "outputs": [],
   "source": [
    "interpreter = tf.lite.Interpreter(\"C:/Users/hjhhi/Desktop/Codes/lite-model_movenet_singlepose_lightning_tflite_float16_4.tflite\")\n",
    "input_details = interpreter.get_input_details()\n",
    "output_details = interpreter.get_output_details()\n",
    "interpreter.allocate_tensors()\n",
    "output = interpreter.get_output_details()[0]  # Model has single output.\n",
    "input = interpreter.get_input_details()[0]  # Model has single input.\n",
    "interpreter.invoke()"
   ]
  },
  {
   "cell_type": "code",
   "execution_count": 3,
   "id": "50fa0cf3",
   "metadata": {
    "ExecuteTime": {
     "end_time": "2022-09-16T14:43:34.354273Z",
     "start_time": "2022-09-16T14:43:34.340272Z"
    }
   },
   "outputs": [],
   "source": [
    "def image_preprocess(path):\n",
    "    image = cv2.imread(path)\n",
    "    image= image.astype(\"uint8\")\n",
    "    image = cv2.resize(image, (192, 192), interpolation=cv2.INTER_NEAREST)\n",
    "    image = cv2.cvtColor(image, cv2.COLOR_BGR2RGB)\n",
    "    image= np.resize(image, (1, 192, 192, 3))\n",
    "    return image"
   ]
  },
  {
   "cell_type": "markdown",
   "id": "59862943",
   "metadata": {},
   "source": [
    "# Load data from Mobius"
   ]
  },
  {
   "cell_type": "markdown",
   "id": "64784648",
   "metadata": {},
   "source": [
    "## Load image data   \n",
    "이 과정은 모비우스에서 가져오기 +  base64 디코딩 과정을 거쳐야함"
   ]
  },
  {
   "cell_type": "code",
   "execution_count": 4,
   "id": "c8d4341b",
   "metadata": {
    "ExecuteTime": {
     "end_time": "2022-09-16T14:43:36.859542Z",
     "start_time": "2022-09-16T14:43:36.809461Z"
    }
   },
   "outputs": [],
   "source": [
    "image = image_preprocess(\"C:/Users/hjhhi/Desktop/Codes/51.jpg\")\n",
    "\n",
    "interpreter.set_tensor(input['index'], image)\n",
    "interpreter.invoke()\n",
    "result = interpreter.get_tensor(output_details[0]['index'])\n",
    "result = result.reshape(51)"
   ]
  },
  {
   "cell_type": "markdown",
   "id": "bfef2e79",
   "metadata": {},
   "source": [
    "## Load watch data "
   ]
  },
  {
   "cell_type": "code",
   "execution_count": 29,
   "id": "c81b6ecd",
   "metadata": {
    "ExecuteTime": {
     "end_time": "2022-09-16T14:49:29.716817Z",
     "start_time": "2022-09-16T14:49:29.670406Z"
    }
   },
   "outputs": [
    {
     "name": "stdout",
     "output_type": "stream",
     "text": [
      "Gyro data value is:  ['-0.017104227', '-0.0012217305', '0.02076942', '0.59136784', '8.0684595', '5.2289367']\n"
     ]
    }
   ],
   "source": [
    "url = \"http://203.253.128.177:7579/Mobius/SW_Hackaton/watch/la\"\n",
    "\n",
    "payload=\"\"\n",
    "headers = {\n",
    "'Accept': 'application/json',\n",
    "'X-M2M-RI': '12345',\n",
    "'X-M2M-Origin': 'S',\n",
    "'Content-Type': 'application/json'\n",
    "}\n",
    "\n",
    "response = requests.request(\"GET\", url, headers=headers, data=payload)\n",
    "gyro_data = json.loads(response.text)[\"m2m:cin\"][\"con\"]\n",
    "gyro_data = gyro_data.split(\",\")\n",
    "\n",
    "print(\"Gyro data value is: \", gyro_data)"
   ]
  },
  {
   "cell_type": "markdown",
   "id": "e6138a73",
   "metadata": {},
   "source": [
    "# Load classifier "
   ]
  },
  {
   "cell_type": "markdown",
   "id": "7e1fe08c",
   "metadata": {},
   "source": [
    "## Load image classifier"
   ]
  },
  {
   "cell_type": "code",
   "execution_count": 7,
   "id": "18895816",
   "metadata": {
    "ExecuteTime": {
     "end_time": "2022-09-16T14:46:28.990778Z",
     "start_time": "2022-09-16T14:46:28.917668Z"
    }
   },
   "outputs": [],
   "source": [
    "image_classifier = joblib.load(\"./image_model.pkl\")"
   ]
  },
  {
   "cell_type": "code",
   "execution_count": 8,
   "id": "28347958",
   "metadata": {
    "ExecuteTime": {
     "end_time": "2022-09-16T14:46:29.132268Z",
     "start_time": "2022-09-16T14:46:29.111960Z"
    }
   },
   "outputs": [],
   "source": [
    "image_proba = image_classifier.predict_proba([result])"
   ]
  },
  {
   "cell_type": "code",
   "execution_count": 9,
   "id": "c72fee96",
   "metadata": {
    "ExecuteTime": {
     "end_time": "2022-09-16T14:46:29.350453Z",
     "start_time": "2022-09-16T14:46:29.329405Z"
    }
   },
   "outputs": [
    {
     "data": {
      "text/plain": [
       "array([[0.01758501, 0.00950702, 0.57819063, 0.12256325, 0.05857313,\n",
       "        0.08835219, 0.12522878]])"
      ]
     },
     "execution_count": 9,
     "metadata": {},
     "output_type": "execute_result"
    }
   ],
   "source": [
    "image_proba"
   ]
  },
  {
   "cell_type": "markdown",
   "id": "75e08227",
   "metadata": {},
   "source": [
    "## Load gyro classifier "
   ]
  },
  {
   "cell_type": "code",
   "execution_count": 32,
   "id": "806b2aa2",
   "metadata": {
    "ExecuteTime": {
     "end_time": "2022-09-16T14:49:40.939590Z",
     "start_time": "2022-09-16T14:49:40.925430Z"
    }
   },
   "outputs": [],
   "source": [
    "gyro_classifier = joblib.load(\"./gyro_model.pkl\")"
   ]
  },
  {
   "cell_type": "code",
   "execution_count": 33,
   "id": "b070e64e",
   "metadata": {
    "ExecuteTime": {
     "end_time": "2022-09-16T14:49:41.203625Z",
     "start_time": "2022-09-16T14:49:41.193552Z"
    }
   },
   "outputs": [
    {
     "data": {
      "text/plain": [
       "['-0.017104227',\n",
       " '-0.0012217305',\n",
       " '0.02076942',\n",
       " '0.59136784',\n",
       " '8.0684595',\n",
       " '5.2289367']"
      ]
     },
     "execution_count": 33,
     "metadata": {},
     "output_type": "execute_result"
    }
   ],
   "source": [
    "gyro_data"
   ]
  },
  {
   "cell_type": "code",
   "execution_count": 34,
   "id": "b2698433",
   "metadata": {
    "ExecuteTime": {
     "end_time": "2022-09-16T14:49:41.623231Z",
     "start_time": "2022-09-16T14:49:41.616165Z"
    }
   },
   "outputs": [
    {
     "name": "stderr",
     "output_type": "stream",
     "text": [
      "C:\\Users\\hjhhi\\Anaconda3\\envs\\raspberry\\lib\\site-packages\\sklearn\\base.py:450: UserWarning: X does not have valid feature names, but RandomForestClassifier was fitted with feature names\n",
      "  warnings.warn(\n"
     ]
    }
   ],
   "source": [
    "gyro_proba = gyro_classifier.predict_proba([gyro_data])"
   ]
  },
  {
   "cell_type": "code",
   "execution_count": 35,
   "id": "632259b5",
   "metadata": {
    "ExecuteTime": {
     "end_time": "2022-09-16T14:49:48.314685Z",
     "start_time": "2022-09-16T14:49:48.297163Z"
    }
   },
   "outputs": [
    {
     "data": {
      "text/plain": [
       "array([[0.        , 0.05559563, 0.62373721, 0.18899256, 0.10696308,\n",
       "        0.0193828 , 0.00532873]])"
      ]
     },
     "execution_count": 35,
     "metadata": {},
     "output_type": "execute_result"
    }
   ],
   "source": [
    "gyro_proba"
   ]
  },
  {
   "cell_type": "markdown",
   "id": "08010453",
   "metadata": {},
   "source": [
    "# Send final prediction to Mobius "
   ]
  },
  {
   "cell_type": "code",
   "execution_count": 40,
   "id": "97b0906c",
   "metadata": {
    "ExecuteTime": {
     "end_time": "2022-09-16T14:51:00.372488Z",
     "start_time": "2022-09-16T14:51:00.362781Z"
    }
   },
   "outputs": [],
   "source": [
    "Final_proba = image_proba + gyro_proba"
   ]
  },
  {
   "cell_type": "code",
   "execution_count": 41,
   "id": "23cd7196",
   "metadata": {
    "ExecuteTime": {
     "end_time": "2022-09-16T14:51:01.202911Z",
     "start_time": "2022-09-16T14:51:01.187918Z"
    }
   },
   "outputs": [],
   "source": [
    "Final_pred=np.argmax(Final_proba)"
   ]
  },
  {
   "cell_type": "code",
   "execution_count": 45,
   "id": "c8b3656e",
   "metadata": {
    "ExecuteTime": {
     "end_time": "2022-09-16T14:53:08.201496Z",
     "start_time": "2022-09-16T14:53:08.154469Z"
    }
   },
   "outputs": [
    {
     "ename": "TypeError",
     "evalue": "Object of type int64 is not JSON serializable",
     "output_type": "error",
     "traceback": [
      "\u001b[1;31m---------------------------------------------------------------------------\u001b[0m",
      "\u001b[1;31mTypeError\u001b[0m                                 Traceback (most recent call last)",
      "Input \u001b[1;32mIn [45]\u001b[0m, in \u001b[0;36m<cell line: 21>\u001b[1;34m()\u001b[0m\n\u001b[0;32m      6\u001b[0m data \u001b[38;5;241m=\u001b[39m {\n\u001b[0;32m      7\u001b[0m     \u001b[38;5;124m\"\u001b[39m\u001b[38;5;124mm2m:cin\u001b[39m\u001b[38;5;124m\"\u001b[39m: {\n\u001b[0;32m      8\u001b[0m         \u001b[38;5;124m\"\u001b[39m\u001b[38;5;124mcon\u001b[39m\u001b[38;5;124m\"\u001b[39m: Final_pred\n\u001b[0;32m      9\u001b[0m     }\n\u001b[0;32m     10\u001b[0m }\n\u001b[0;32m     12\u001b[0m headers \u001b[38;5;241m=\u001b[39m {\n\u001b[0;32m     13\u001b[0m   \u001b[38;5;124m'\u001b[39m\u001b[38;5;124mAccept\u001b[39m\u001b[38;5;124m'\u001b[39m: \u001b[38;5;124m'\u001b[39m\u001b[38;5;124mapplication/json\u001b[39m\u001b[38;5;124m'\u001b[39m,\n\u001b[0;32m     14\u001b[0m   \u001b[38;5;124m'\u001b[39m\u001b[38;5;124mX-M2M-RI\u001b[39m\u001b[38;5;124m'\u001b[39m: \u001b[38;5;124m'\u001b[39m\u001b[38;5;124m12345\u001b[39m\u001b[38;5;124m'\u001b[39m,\n\u001b[0;32m     15\u001b[0m   \u001b[38;5;124m'\u001b[39m\u001b[38;5;124mX-M2M-Origin\u001b[39m\u001b[38;5;124m'\u001b[39m: \u001b[38;5;124m'\u001b[39m\u001b[38;5;124mSOrigin\u001b[39m\u001b[38;5;124m'\u001b[39m,\n\u001b[0;32m     16\u001b[0m   \u001b[38;5;124m'\u001b[39m\u001b[38;5;124mContent-Type\u001b[39m\u001b[38;5;124m'\u001b[39m: \u001b[38;5;124m'\u001b[39m\u001b[38;5;124mapplication/json;ty=4\u001b[39m\u001b[38;5;124m'\u001b[39m\n\u001b[0;32m     17\u001b[0m }\n\u001b[1;32m---> 21\u001b[0m response \u001b[38;5;241m=\u001b[39m requests\u001b[38;5;241m.\u001b[39mrequest(\u001b[38;5;124m\"\u001b[39m\u001b[38;5;124mPOST\u001b[39m\u001b[38;5;124m\"\u001b[39m, url, headers\u001b[38;5;241m=\u001b[39mheaders, data\u001b[38;5;241m=\u001b[39m\u001b[43mjson\u001b[49m\u001b[38;5;241;43m.\u001b[39;49m\u001b[43mdumps\u001b[49m\u001b[43m(\u001b[49m\u001b[43mdata\u001b[49m\u001b[43m)\u001b[49m)\n\u001b[0;32m     23\u001b[0m \u001b[38;5;28mprint\u001b[39m(response\u001b[38;5;241m.\u001b[39mtext)\n",
      "File \u001b[1;32m~\\Anaconda3\\envs\\raspberry\\lib\\json\\__init__.py:231\u001b[0m, in \u001b[0;36mdumps\u001b[1;34m(obj, skipkeys, ensure_ascii, check_circular, allow_nan, cls, indent, separators, default, sort_keys, **kw)\u001b[0m\n\u001b[0;32m    226\u001b[0m \u001b[38;5;66;03m# cached encoder\u001b[39;00m\n\u001b[0;32m    227\u001b[0m \u001b[38;5;28;01mif\u001b[39;00m (\u001b[38;5;129;01mnot\u001b[39;00m skipkeys \u001b[38;5;129;01mand\u001b[39;00m ensure_ascii \u001b[38;5;129;01mand\u001b[39;00m\n\u001b[0;32m    228\u001b[0m     check_circular \u001b[38;5;129;01mand\u001b[39;00m allow_nan \u001b[38;5;129;01mand\u001b[39;00m\n\u001b[0;32m    229\u001b[0m     \u001b[38;5;28mcls\u001b[39m \u001b[38;5;129;01mis\u001b[39;00m \u001b[38;5;28;01mNone\u001b[39;00m \u001b[38;5;129;01mand\u001b[39;00m indent \u001b[38;5;129;01mis\u001b[39;00m \u001b[38;5;28;01mNone\u001b[39;00m \u001b[38;5;129;01mand\u001b[39;00m separators \u001b[38;5;129;01mis\u001b[39;00m \u001b[38;5;28;01mNone\u001b[39;00m \u001b[38;5;129;01mand\u001b[39;00m\n\u001b[0;32m    230\u001b[0m     default \u001b[38;5;129;01mis\u001b[39;00m \u001b[38;5;28;01mNone\u001b[39;00m \u001b[38;5;129;01mand\u001b[39;00m \u001b[38;5;129;01mnot\u001b[39;00m sort_keys \u001b[38;5;129;01mand\u001b[39;00m \u001b[38;5;129;01mnot\u001b[39;00m kw):\n\u001b[1;32m--> 231\u001b[0m     \u001b[38;5;28;01mreturn\u001b[39;00m \u001b[43m_default_encoder\u001b[49m\u001b[38;5;241;43m.\u001b[39;49m\u001b[43mencode\u001b[49m\u001b[43m(\u001b[49m\u001b[43mobj\u001b[49m\u001b[43m)\u001b[49m\n\u001b[0;32m    232\u001b[0m \u001b[38;5;28;01mif\u001b[39;00m \u001b[38;5;28mcls\u001b[39m \u001b[38;5;129;01mis\u001b[39;00m \u001b[38;5;28;01mNone\u001b[39;00m:\n\u001b[0;32m    233\u001b[0m     \u001b[38;5;28mcls\u001b[39m \u001b[38;5;241m=\u001b[39m JSONEncoder\n",
      "File \u001b[1;32m~\\Anaconda3\\envs\\raspberry\\lib\\json\\encoder.py:199\u001b[0m, in \u001b[0;36mJSONEncoder.encode\u001b[1;34m(self, o)\u001b[0m\n\u001b[0;32m    195\u001b[0m         \u001b[38;5;28;01mreturn\u001b[39;00m encode_basestring(o)\n\u001b[0;32m    196\u001b[0m \u001b[38;5;66;03m# This doesn't pass the iterator directly to ''.join() because the\u001b[39;00m\n\u001b[0;32m    197\u001b[0m \u001b[38;5;66;03m# exceptions aren't as detailed.  The list call should be roughly\u001b[39;00m\n\u001b[0;32m    198\u001b[0m \u001b[38;5;66;03m# equivalent to the PySequence_Fast that ''.join() would do.\u001b[39;00m\n\u001b[1;32m--> 199\u001b[0m chunks \u001b[38;5;241m=\u001b[39m \u001b[38;5;28;43mself\u001b[39;49m\u001b[38;5;241;43m.\u001b[39;49m\u001b[43miterencode\u001b[49m\u001b[43m(\u001b[49m\u001b[43mo\u001b[49m\u001b[43m,\u001b[49m\u001b[43m \u001b[49m\u001b[43m_one_shot\u001b[49m\u001b[38;5;241;43m=\u001b[39;49m\u001b[38;5;28;43;01mTrue\u001b[39;49;00m\u001b[43m)\u001b[49m\n\u001b[0;32m    200\u001b[0m \u001b[38;5;28;01mif\u001b[39;00m \u001b[38;5;129;01mnot\u001b[39;00m \u001b[38;5;28misinstance\u001b[39m(chunks, (\u001b[38;5;28mlist\u001b[39m, \u001b[38;5;28mtuple\u001b[39m)):\n\u001b[0;32m    201\u001b[0m     chunks \u001b[38;5;241m=\u001b[39m \u001b[38;5;28mlist\u001b[39m(chunks)\n",
      "File \u001b[1;32m~\\Anaconda3\\envs\\raspberry\\lib\\json\\encoder.py:257\u001b[0m, in \u001b[0;36mJSONEncoder.iterencode\u001b[1;34m(self, o, _one_shot)\u001b[0m\n\u001b[0;32m    252\u001b[0m \u001b[38;5;28;01melse\u001b[39;00m:\n\u001b[0;32m    253\u001b[0m     _iterencode \u001b[38;5;241m=\u001b[39m _make_iterencode(\n\u001b[0;32m    254\u001b[0m         markers, \u001b[38;5;28mself\u001b[39m\u001b[38;5;241m.\u001b[39mdefault, _encoder, \u001b[38;5;28mself\u001b[39m\u001b[38;5;241m.\u001b[39mindent, floatstr,\n\u001b[0;32m    255\u001b[0m         \u001b[38;5;28mself\u001b[39m\u001b[38;5;241m.\u001b[39mkey_separator, \u001b[38;5;28mself\u001b[39m\u001b[38;5;241m.\u001b[39mitem_separator, \u001b[38;5;28mself\u001b[39m\u001b[38;5;241m.\u001b[39msort_keys,\n\u001b[0;32m    256\u001b[0m         \u001b[38;5;28mself\u001b[39m\u001b[38;5;241m.\u001b[39mskipkeys, _one_shot)\n\u001b[1;32m--> 257\u001b[0m \u001b[38;5;28;01mreturn\u001b[39;00m \u001b[43m_iterencode\u001b[49m\u001b[43m(\u001b[49m\u001b[43mo\u001b[49m\u001b[43m,\u001b[49m\u001b[43m \u001b[49m\u001b[38;5;241;43m0\u001b[39;49m\u001b[43m)\u001b[49m\n",
      "File \u001b[1;32m~\\Anaconda3\\envs\\raspberry\\lib\\json\\encoder.py:179\u001b[0m, in \u001b[0;36mJSONEncoder.default\u001b[1;34m(self, o)\u001b[0m\n\u001b[0;32m    160\u001b[0m \u001b[38;5;28;01mdef\u001b[39;00m \u001b[38;5;21mdefault\u001b[39m(\u001b[38;5;28mself\u001b[39m, o):\n\u001b[0;32m    161\u001b[0m     \u001b[38;5;124;03m\"\"\"Implement this method in a subclass such that it returns\u001b[39;00m\n\u001b[0;32m    162\u001b[0m \u001b[38;5;124;03m    a serializable object for ``o``, or calls the base implementation\u001b[39;00m\n\u001b[0;32m    163\u001b[0m \u001b[38;5;124;03m    (to raise a ``TypeError``).\u001b[39;00m\n\u001b[1;32m   (...)\u001b[0m\n\u001b[0;32m    177\u001b[0m \n\u001b[0;32m    178\u001b[0m \u001b[38;5;124;03m    \"\"\"\u001b[39;00m\n\u001b[1;32m--> 179\u001b[0m     \u001b[38;5;28;01mraise\u001b[39;00m \u001b[38;5;167;01mTypeError\u001b[39;00m(\u001b[38;5;124mf\u001b[39m\u001b[38;5;124m'\u001b[39m\u001b[38;5;124mObject of type \u001b[39m\u001b[38;5;132;01m{\u001b[39;00mo\u001b[38;5;241m.\u001b[39m\u001b[38;5;18m__class__\u001b[39m\u001b[38;5;241m.\u001b[39m\u001b[38;5;18m__name__\u001b[39m\u001b[38;5;132;01m}\u001b[39;00m\u001b[38;5;124m \u001b[39m\u001b[38;5;124m'\u001b[39m\n\u001b[0;32m    180\u001b[0m                     \u001b[38;5;124mf\u001b[39m\u001b[38;5;124m'\u001b[39m\u001b[38;5;124mis not JSON serializable\u001b[39m\u001b[38;5;124m'\u001b[39m)\n",
      "\u001b[1;31mTypeError\u001b[0m: Object of type int64 is not JSON serializable"
     ]
    }
   ],
   "source": [
    "import requests\n",
    "import json\n",
    "\n",
    "url = \"http://203.253.128.177:7579/Mobius/SW_Hackaton/final_pred\"\n",
    "\n",
    "data = {\n",
    "    \"m2m:cin\": {\n",
    "        \"con\": float(Final_pred\n",
    "    }\n",
    "}\n",
    "\n",
    "headers = {\n",
    "  'Accept': 'application/json',\n",
    "  'X-M2M-RI': '12345',\n",
    "  'X-M2M-Origin': 'SOrigin',\n",
    "  'Content-Type': 'application/json;ty=4'\n",
    "}\n",
    "\n",
    "\n",
    "\n",
    "response = requests.request(\"POST\", url, headers=headers, data=json.dumps(data))\n",
    "\n",
    "print(response.text)"
   ]
  },
  {
   "cell_type": "code",
   "execution_count": null,
   "id": "d491dab5",
   "metadata": {},
   "outputs": [],
   "source": []
  }
 ],
 "metadata": {
  "kernelspec": {
   "display_name": "raspberry",
   "language": "python",
   "name": "raspberry"
  },
  "language_info": {
   "codemirror_mode": {
    "name": "ipython",
    "version": 3
   },
   "file_extension": ".py",
   "mimetype": "text/x-python",
   "name": "python",
   "nbconvert_exporter": "python",
   "pygments_lexer": "ipython3",
   "version": "3.9.2"
  },
  "toc": {
   "base_numbering": 1,
   "nav_menu": {},
   "number_sections": true,
   "sideBar": true,
   "skip_h1_title": false,
   "title_cell": "Table of Contents",
   "title_sidebar": "Contents",
   "toc_cell": false,
   "toc_position": {},
   "toc_section_display": true,
   "toc_window_display": false
  }
 },
 "nbformat": 4,
 "nbformat_minor": 5
}
