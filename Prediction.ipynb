{
 "cells": [
  {
   "cell_type": "code",
   "execution_count": 77,
   "id": "5366ae93",
   "metadata": {
    "ExecuteTime": {
     "end_time": "2022-09-16T10:57:04.604146Z",
     "start_time": "2022-09-16T10:57:04.594141Z"
    }
   },
   "outputs": [],
   "source": [
    "import joblib\n",
    "from sklearn.ensemble import RandomForestClassifier\n",
    "import tensorflow as tf\n",
    "import numpy as np\n",
    "import cv2\n",
    "import matplotlib.pyplot as plt\n",
    "import requests\n",
    "import json"
   ]
  },
  {
   "cell_type": "markdown",
   "id": "f01991a3",
   "metadata": {},
   "source": [
    "# Load Posenet"
   ]
  },
  {
   "cell_type": "code",
   "execution_count": 10,
   "id": "5f76bf8b",
   "metadata": {
    "ExecuteTime": {
     "end_time": "2022-09-16T08:41:31.877524Z",
     "start_time": "2022-09-16T08:41:31.819494Z"
    }
   },
   "outputs": [],
   "source": [
    "interpreter = tf.lite.Interpreter(\"C:/Users/hjhhi/Desktop/Codes/lite-model_movenet_singlepose_lightning_tflite_float16_4.tflite\")\n",
    "input_details = interpreter.get_input_details()\n",
    "output_details = interpreter.get_output_details()\n",
    "interpreter.allocate_tensors()\n",
    "output = interpreter.get_output_details()[0]  # Model has single output.\n",
    "input = interpreter.get_input_details()[0]  # Model has single input.\n",
    "interpreter.invoke()"
   ]
  },
  {
   "cell_type": "code",
   "execution_count": 27,
   "id": "50fa0cf3",
   "metadata": {
    "ExecuteTime": {
     "end_time": "2022-09-16T09:34:45.176292Z",
     "start_time": "2022-09-16T09:34:45.153324Z"
    }
   },
   "outputs": [],
   "source": [
    "def image_preprocess(path):\n",
    "    image = cv2.imread(path)\n",
    "    image= image.astype(\"uint8\")\n",
    "    image = cv2.resize(image, (192, 192), interpolation=cv2.INTER_NEAREST)\n",
    "    image = cv2.cvtColor(image, cv2.COLOR_BGR2RGB)\n",
    "    image= np.resize(image, (1, 192, 192, 3))\n",
    "    return image"
   ]
  },
  {
   "cell_type": "markdown",
   "id": "e47ed06c",
   "metadata": {},
   "source": [
    "아래쪽의 이미지는 모비우스에서 가져오고 base64 디코딩 과정을 거쳐야함"
   ]
  },
  {
   "cell_type": "code",
   "execution_count": 28,
   "id": "c8d4341b",
   "metadata": {
    "ExecuteTime": {
     "end_time": "2022-09-16T09:34:45.503137Z",
     "start_time": "2022-09-16T09:34:45.465131Z"
    }
   },
   "outputs": [],
   "source": [
    "image = image_preprocess(\"C:/Users/hjhhi/Desktop/Codes/51.jpg\")\n",
    "\n",
    "interpreter.set_tensor(input['index'], image)\n",
    "interpreter.invoke()\n",
    "result = interpreter.get_tensor(output_details[0]['index'])\n",
    "result = result.reshape(51)"
   ]
  },
  {
   "cell_type": "markdown",
   "id": "bfef2e79",
   "metadata": {},
   "source": [
    "# Load image from Mobius"
   ]
  },
  {
   "cell_type": "code",
   "execution_count": 81,
   "id": "c81b6ecd",
   "metadata": {
    "ExecuteTime": {
     "end_time": "2022-09-16T11:42:20.348324Z",
     "start_time": "2022-09-16T11:42:20.280730Z"
    }
   },
   "outputs": [
    {
     "data": {
      "text/plain": [
       "'10000'"
      ]
     },
     "execution_count": 81,
     "metadata": {},
     "output_type": "execute_result"
    }
   ],
   "source": [
    "url = \"http://203.253.128.177:7579/Mobius/SW_Hackaton/test/4-20220916095142457\"\n",
    "\n",
    "\n",
    "\n",
    "payload=\"\"\n",
    "headers = {\n",
    "'Accept': 'application/json',\n",
    "'X-M2M-RI': '12345',\n",
    "'X-M2M-Origin': 'S',\n",
    "'Content-Type': 'application/json'\n",
    "}\n",
    "\n",
    "response = requests.request(\"GET\", url, headers=headers, data=payload)\n",
    "json.loads(response.text)[\"m2m:cin\"][\"con\"]"
   ]
  },
  {
   "cell_type": "markdown",
   "id": "c5d4b788",
   "metadata": {},
   "source": [
    "# Load image_classifier"
   ]
  },
  {
   "cell_type": "code",
   "execution_count": 29,
   "id": "18895816",
   "metadata": {
    "ExecuteTime": {
     "end_time": "2022-09-16T09:34:45.816539Z",
     "start_time": "2022-09-16T09:34:45.787696Z"
    }
   },
   "outputs": [],
   "source": [
    "image_classifier = joblib.load(\"./image_model.pkl\")"
   ]
  },
  {
   "cell_type": "code",
   "execution_count": 34,
   "id": "28347958",
   "metadata": {
    "ExecuteTime": {
     "end_time": "2022-09-16T09:35:47.833410Z",
     "start_time": "2022-09-16T09:35:47.814409Z"
    }
   },
   "outputs": [],
   "source": [
    "image_proba = image_classifier.predict_proba([result])"
   ]
  },
  {
   "cell_type": "code",
   "execution_count": 35,
   "id": "c72fee96",
   "metadata": {
    "ExecuteTime": {
     "end_time": "2022-09-16T09:35:52.171064Z",
     "start_time": "2022-09-16T09:35:52.154044Z"
    }
   },
   "outputs": [
    {
     "data": {
      "text/plain": [
       "array([[0.01758501, 0.00950702, 0.57819063, 0.12256325, 0.05857313,\n",
       "        0.08835219, 0.12522878]])"
      ]
     },
     "execution_count": 35,
     "metadata": {},
     "output_type": "execute_result"
    }
   ],
   "source": [
    "image_proba"
   ]
  },
  {
   "cell_type": "markdown",
   "id": "15dbb738",
   "metadata": {},
   "source": [
    "# Load gyro_classifier "
   ]
  },
  {
   "cell_type": "code",
   "execution_count": 82,
   "id": "a972ac3f",
   "metadata": {
    "ExecuteTime": {
     "end_time": "2022-09-16T11:42:56.711151Z",
     "start_time": "2022-09-16T11:42:56.649064Z"
    }
   },
   "outputs": [],
   "source": [
    "gyro_classifier = joblib.load(\"./gyro_model.pkl\")"
   ]
  },
  {
   "cell_type": "code",
   "execution_count": 87,
   "id": "0f60c37e",
   "metadata": {
    "ExecuteTime": {
     "end_time": "2022-09-16T11:47:08.997922Z",
     "start_time": "2022-09-16T11:47:08.959171Z"
    }
   },
   "outputs": [
    {
     "name": "stderr",
     "output_type": "stream",
     "text": [
      "C:\\Users\\hjhhi\\Anaconda3\\envs\\raspberry\\lib\\site-packages\\sklearn\\base.py:450: UserWarning: X does not have valid feature names, but RandomForestClassifier was fitted with feature names\n",
      "  warnings.warn(\n"
     ]
    }
   ],
   "source": [
    "gyro_proba = gyro_classifier.predict_proba([[-0.0122173 , -0.05497787,  0.01710423, -2.6001031 , -9.3182335 ,1.0462662]])"
   ]
  },
  {
   "cell_type": "code",
   "execution_count": 88,
   "id": "547afbb1",
   "metadata": {
    "ExecuteTime": {
     "end_time": "2022-09-16T11:47:15.593760Z",
     "start_time": "2022-09-16T11:47:15.577731Z"
    }
   },
   "outputs": [
    {
     "data": {
      "text/plain": [
       "array([[0.        , 0.04970075, 0.06602758, 0.10212088, 0.73870548,\n",
       "        0.0434453 , 0.        ]])"
      ]
     },
     "execution_count": 88,
     "metadata": {},
     "output_type": "execute_result"
    }
   ],
   "source": [
    "gyro_proba"
   ]
  },
  {
   "cell_type": "code",
   "execution_count": 89,
   "id": "56a40c13",
   "metadata": {
    "ExecuteTime": {
     "end_time": "2022-09-16T11:47:36.044673Z",
     "start_time": "2022-09-16T11:47:36.024667Z"
    }
   },
   "outputs": [
    {
     "data": {
      "text/plain": [
       "array([[0.01758501, 0.05920778, 0.64421821, 0.22468413, 0.79727861,\n",
       "        0.13179749, 0.12522878]])"
      ]
     },
     "execution_count": 89,
     "metadata": {},
     "output_type": "execute_result"
    }
   ],
   "source": [
    "image_proba + gyro_proba"
   ]
  },
  {
   "cell_type": "code",
   "execution_count": 91,
   "id": "1c56f30e",
   "metadata": {
    "ExecuteTime": {
     "end_time": "2022-09-16T11:48:06.812571Z",
     "start_time": "2022-09-16T11:48:06.803250Z"
    }
   },
   "outputs": [
    {
     "data": {
      "text/plain": [
       "0.05920777"
      ]
     },
     "execution_count": 91,
     "metadata": {},
     "output_type": "execute_result"
    }
   ],
   "source": [
    "0.00950702 +  0.04970075"
   ]
  },
  {
   "cell_type": "markdown",
   "id": "08010453",
   "metadata": {},
   "source": [
    "# Send final prediction to Mobius "
   ]
  },
  {
   "cell_type": "code",
   "execution_count": 41,
   "id": "23cd7196",
   "metadata": {
    "ExecuteTime": {
     "end_time": "2022-09-16T09:56:39.804954Z",
     "start_time": "2022-09-16T09:56:39.794947Z"
    }
   },
   "outputs": [],
   "source": [
    "Final_pred=10000"
   ]
  },
  {
   "cell_type": "code",
   "execution_count": 43,
   "id": "c8b3656e",
   "metadata": {
    "ExecuteTime": {
     "end_time": "2022-09-16T09:56:48.853878Z",
     "start_time": "2022-09-16T09:56:48.807360Z"
    }
   },
   "outputs": [
    {
     "name": "stdout",
     "output_type": "stream",
     "text": [
      "{\"m2m:cin\":{\"rn\":\"4-20220916095142457\",\"ty\":4,\"pi\":\"3-20220915105957489894\",\"ri\":\"4-20220916095142458460\",\"ct\":\"20220916T095142\",\"lt\":\"20220916T095142\",\"st\":14,\"et\":\"20240916T095142\",\"cs\":5,\"con\":\"10000\",\"cr\":\"SOrigin\"}}\n"
     ]
    }
   ],
   "source": [
    "import requests\n",
    "import json\n",
    "\n",
    "url = \"http://203.253.128.177:7579/Mobius/SW_Hackaton/test\"\n",
    "\n",
    "data = {\n",
    "    \"m2m:cin\": {\n",
    "        \"con\": Final_pred\n",
    "    }\n",
    "}\n",
    "\n",
    "headers = {\n",
    "  'Accept': 'application/json',\n",
    "  'X-M2M-RI': '12345',\n",
    "  'X-M2M-Origin': 'SOrigin',\n",
    "  'Content-Type': 'application/json;ty=4'\n",
    "}\n",
    "\n",
    "\n",
    "\n",
    "response = requests.request(\"POST\", url, headers=headers, data=json.dumps(data))\n",
    "\n",
    "print(response.text)\n"
   ]
  }
 ],
 "metadata": {
  "kernelspec": {
   "display_name": "raspberry",
   "language": "python",
   "name": "raspberry"
  },
  "language_info": {
   "codemirror_mode": {
    "name": "ipython",
    "version": 3
   },
   "file_extension": ".py",
   "mimetype": "text/x-python",
   "name": "python",
   "nbconvert_exporter": "python",
   "pygments_lexer": "ipython3",
   "version": "3.9.2"
  },
  "toc": {
   "base_numbering": 1,
   "nav_menu": {},
   "number_sections": true,
   "sideBar": true,
   "skip_h1_title": false,
   "title_cell": "Table of Contents",
   "title_sidebar": "Contents",
   "toc_cell": false,
   "toc_position": {},
   "toc_section_display": true,
   "toc_window_display": false
  }
 },
 "nbformat": 4,
 "nbformat_minor": 5
}
