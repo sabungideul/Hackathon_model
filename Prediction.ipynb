{
 "cells": [
  {
   "cell_type": "code",
   "execution_count": 24,
   "id": "5e1f2c45",
   "metadata": {
    "ExecuteTime": {
     "end_time": "2022-09-16T09:34:01.788490Z",
     "start_time": "2022-09-16T09:34:01.111275Z"
    }
   },
   "outputs": [],
   "source": [
    "import joblib\n",
    "from sklearn.ensemble import RandomForestClassifier\n",
    "import tensorflow as tf\n",
    "import numpy as np\n",
    "import cv2\n",
    "import matplotlib.pyplot as plt"
   ]
  },
  {
   "cell_type": "markdown",
   "id": "5c36bb3c",
   "metadata": {},
   "source": [
    "# Load Posenet"
   ]
  },
  {
   "cell_type": "code",
   "execution_count": 10,
   "id": "4c719d2f",
   "metadata": {
    "ExecuteTime": {
     "end_time": "2022-09-16T08:41:31.877524Z",
     "start_time": "2022-09-16T08:41:31.819494Z"
    }
   },
   "outputs": [],
   "source": [
    "interpreter = tf.lite.Interpreter(\"C:/Users/hjhhi/Desktop/Codes/lite-model_movenet_singlepose_lightning_tflite_float16_4.tflite\")\n",
    "input_details = interpreter.get_input_details()\n",
    "output_details = interpreter.get_output_details()\n",
    "interpreter.allocate_tensors()\n",
    "output = interpreter.get_output_details()[0]  # Model has single output.\n",
    "input = interpreter.get_input_details()[0]  # Model has single input.\n",
    "interpreter.invoke()"
   ]
  },
  {
   "cell_type": "code",
   "execution_count": 27,
   "id": "3d49c43d",
   "metadata": {
    "ExecuteTime": {
     "end_time": "2022-09-16T09:34:45.176292Z",
     "start_time": "2022-09-16T09:34:45.153324Z"
    }
   },
   "outputs": [],
   "source": [
    "def image_preprocess(path):\n",
    "    image = cv2.imread(path)\n",
    "    image= image.astype(\"uint8\")\n",
    "    image = cv2.resize(image, (192, 192), interpolation=cv2.INTER_NEAREST)\n",
    "    image = cv2.cvtColor(image, cv2.COLOR_BGR2RGB)\n",
    "    image= np.resize(image, (1, 192, 192, 3))\n",
    "    return image"
   ]
  },
  {
   "cell_type": "markdown",
   "id": "a9d24eb5",
   "metadata": {},
   "source": [
    "아래쪽의 이미지는 모비우스에서 가져오고 base64 디코딩 과정을 거쳐야함"
   ]
  },
  {
   "cell_type": "code",
   "execution_count": 28,
   "id": "32b233d6",
   "metadata": {
    "ExecuteTime": {
     "end_time": "2022-09-16T09:34:45.503137Z",
     "start_time": "2022-09-16T09:34:45.465131Z"
    }
   },
   "outputs": [],
   "source": [
    "image = image_preprocess(\"C:/Users/hjhhi/Desktop/Codes/51.jpg\")\n",
    "\n",
    "interpreter.set_tensor(input['index'], image)\n",
    "interpreter.invoke()\n",
    "result = interpreter.get_tensor(output_details[0]['index'])\n",
    "result = result.reshape(51)"
   ]
  },
  {
   "cell_type": "markdown",
   "id": "d18a11af",
   "metadata": {},
   "source": [
    "# Load image_classifier"
   ]
  },
  {
   "cell_type": "code",
   "execution_count": 29,
   "id": "a9c79fc9",
   "metadata": {
    "ExecuteTime": {
     "end_time": "2022-09-16T09:34:45.816539Z",
     "start_time": "2022-09-16T09:34:45.787696Z"
    }
   },
   "outputs": [],
   "source": [
    "image_classifier = joblib.load(\"./image_model.pkl\")"
   ]
  },
  {
   "cell_type": "code",
   "execution_count": 34,
   "id": "f185f042",
   "metadata": {
    "ExecuteTime": {
     "end_time": "2022-09-16T09:35:47.833410Z",
     "start_time": "2022-09-16T09:35:47.814409Z"
    }
   },
   "outputs": [],
   "source": [
    "image_proba = image_classifier.predict_proba([result])"
   ]
  },
  {
   "cell_type": "code",
   "execution_count": 35,
   "id": "85b55bae",
   "metadata": {
    "ExecuteTime": {
     "end_time": "2022-09-16T09:35:52.171064Z",
     "start_time": "2022-09-16T09:35:52.154044Z"
    }
   },
   "outputs": [
    {
     "data": {
      "text/plain": [
       "array([[0.01758501, 0.00950702, 0.57819063, 0.12256325, 0.05857313,\n",
       "        0.08835219, 0.12522878]])"
      ]
     },
     "execution_count": 35,
     "metadata": {},
     "output_type": "execute_result"
    }
   ],
   "source": [
    "image_proba"
   ]
  },
  {
   "cell_type": "markdown",
   "id": "a98f7e75",
   "metadata": {},
   "source": [
    "# Send final prediction to Mobius "
   ]
  },
  {
   "cell_type": "code",
   "execution_count": 41,
   "id": "c71f2fc5",
   "metadata": {
    "ExecuteTime": {
     "end_time": "2022-09-16T09:56:39.804954Z",
     "start_time": "2022-09-16T09:56:39.794947Z"
    }
   },
   "outputs": [],
   "source": [
    "Final_pred=10000"
   ]
  },
  {
   "cell_type": "code",
   "execution_count": 43,
   "id": "640c7a5c",
   "metadata": {
    "ExecuteTime": {
     "end_time": "2022-09-16T09:56:48.853878Z",
     "start_time": "2022-09-16T09:56:48.807360Z"
    }
   },
   "outputs": [
    {
     "name": "stdout",
     "output_type": "stream",
     "text": [
      "{\"m2m:cin\":{\"rn\":\"4-20220916095142457\",\"ty\":4,\"pi\":\"3-20220915105957489894\",\"ri\":\"4-20220916095142458460\",\"ct\":\"20220916T095142\",\"lt\":\"20220916T095142\",\"st\":14,\"et\":\"20240916T095142\",\"cs\":5,\"con\":\"10000\",\"cr\":\"SOrigin\"}}\n"
     ]
    }
   ],
   "source": [
    "import requests\n",
    "import json\n",
    "\n",
    "url = \"http://203.253.128.177:7579/Mobius/SW_Hackaton/test\"\n",
    "\n",
    "data = {\n",
    "    \"m2m:cin\": {\n",
    "        \"con\": Final_pred\n",
    "    }\n",
    "}\n",
    "\n",
    "headers = {\n",
    "  'Accept': 'application/json',\n",
    "  'X-M2M-RI': '12345',\n",
    "  'X-M2M-Origin': 'SOrigin',\n",
    "  'Content-Type': 'application/json;ty=4'\n",
    "}\n",
    "\n",
    "\n",
    "\n",
    "response = requests.request(\"POST\", url, headers=headers, data=json.dumps(data))\n",
    "\n",
    "print(response.text)\n"
   ]
  },
  {
   "cell_type": "code",
   "execution_count": null,
   "id": "8767eac2",
   "metadata": {},
   "outputs": [],
   "source": [
    "import json\n",
    "import requests\n",
    "from requests.exceptions import HTTPError\n",
    "import shortuuid\n",
    "\n",
    "serverIP = \"192.168.0.220\"\n",
    "\n",
    "ae = \"test_ae_create\"\n",
    "cnt = \"cnt_create\"\n",
    "con = [{\"nm\" : \"조정용\",\"enm\" : \"jycho\" }]\n",
    "\n",
    "data = {\n",
    "    \"m2m:cin\": {\n",
    "        \"con\": con\n",
    "    }\n",
    "}\n",
    "\n",
    "if __name__ == \"__main__\":\n",
    "    headers = {\n",
    "        \"Accept\": \"application/json\",\n",
    "        \"X-M2M-RI\": \"req\" + shortuuid.ShortUUID().random(length=10),\n",
    "        \"X-M2M-Origin\": \"/S\" + ae,\n",
    "        \"Content-Type\": \"application/json;ty=4\"\n",
    "    }\n",
    "\n",
    "    try:\n",
    "        response = requests.request(\"post\",\n",
    "                                    \"http://\" + serverIP + \":7579/Mobius/\" + ae + \"/\" + cnt + \"?rcn=1\",\n",
    "                                    data=json.dumps(data),\n",
    "                                    headers=headers,\n",
    "                                    verify=False)\n",
    "\n",
    "        print(response.text)\n",
    "\n",
    "    except HTTPError as error:\n",
    "        print(f\"HTTP error occurred: {error}\")\n",
    "    except Exception as error:\n",
    "        print(f\"Other error occurred: {error}\")"
   ]
  }
 ],
 "metadata": {
  "kernelspec": {
   "display_name": "raspberry",
   "language": "python",
   "name": "raspberry"
  },
  "language_info": {
   "codemirror_mode": {
    "name": "ipython",
    "version": 3
   },
   "file_extension": ".py",
   "mimetype": "text/x-python",
   "name": "python",
   "nbconvert_exporter": "python",
   "pygments_lexer": "ipython3",
   "version": "3.9.2"
  },
  "toc": {
   "base_numbering": 1,
   "nav_menu": {},
   "number_sections": true,
   "sideBar": true,
   "skip_h1_title": false,
   "title_cell": "Table of Contents",
   "title_sidebar": "Contents",
   "toc_cell": false,
   "toc_position": {},
   "toc_section_display": true,
   "toc_window_display": false
  }
 },
 "nbformat": 4,
 "nbformat_minor": 5
}
