{
 "cells": [
  {
   "cell_type": "code",
   "execution_count": 23,
   "id": "138adda4",
   "metadata": {
    "ExecuteTime": {
     "end_time": "2022-09-16T08:35:53.278997Z",
     "start_time": "2022-09-16T08:35:53.260944Z"
    }
   },
   "outputs": [],
   "source": [
    "import os\n",
    "import cv2\n",
    "import numpy as np\n",
    "import pandas as pd\n",
    "import tensorflow as tf\n",
    "import tensorflow.keras as kearas\n",
    "import matplotlib.pyplot as plt\n",
    "from sklearn.model_selection import train_test_split\n",
    "from sklearn.ensemble import RandomForestClassifier\n",
    "import joblib"
   ]
  },
  {
   "cell_type": "code",
   "execution_count": 2,
   "id": "8cbc633e",
   "metadata": {
    "ExecuteTime": {
     "end_time": "2022-09-16T08:30:17.306159Z",
     "start_time": "2022-09-16T08:30:17.278429Z"
    }
   },
   "outputs": [],
   "source": [
    "interpreter = tf.lite.Interpreter(\"C:/Users/hjhhi/Desktop/Codes/lite-model_movenet_singlepose_lightning_tflite_float16_4.tflite\")\n",
    "input_details = interpreter.get_input_details()\n",
    "output_details = interpreter.get_output_details()\n",
    "interpreter.allocate_tensors()\n",
    "output = interpreter.get_output_details()[0]  # Model has single output.\n",
    "input = interpreter.get_input_details()[0]  # Model has single input."
   ]
  },
  {
   "cell_type": "markdown",
   "id": "3219e0b2",
   "metadata": {},
   "source": [
    "# Make dataset for train"
   ]
  },
  {
   "cell_type": "code",
   "execution_count": 3,
   "id": "4932f875",
   "metadata": {
    "ExecuteTime": {
     "end_time": "2022-09-16T08:30:30.907818Z",
     "start_time": "2022-09-16T08:30:30.900816Z"
    }
   },
   "outputs": [],
   "source": [
    "def make_image(size_1=32, size_2 = 32):\n",
    "    path = \"C:/Users/hjhhi/Downloads/image\"\n",
    "    y=[]\n",
    "    data = []\n",
    "    for i in os.listdir(path):\n",
    "        for j in os.listdir(os.path.join(path, i)):\n",
    "            temp = cv2.imread(os.path.join(path, i, j))\n",
    "            temp = cv2.cvtColor(temp, cv2.COLOR_BGR2RGB)\n",
    "            temp = cv2.resize(temp, (size_1, size_2))\n",
    "            data.append(temp)\n",
    "            y.append(int(i))#Append int converting\n",
    "    data = np.uint8(data)\n",
    "    return data, y"
   ]
  },
  {
   "cell_type": "code",
   "execution_count": 4,
   "id": "cc84470f",
   "metadata": {
    "ExecuteTime": {
     "end_time": "2022-09-16T08:30:35.884807Z",
     "start_time": "2022-09-16T08:30:32.523501Z"
    }
   },
   "outputs": [],
   "source": [
    "X, y = make_image(192, 192)"
   ]
  },
  {
   "cell_type": "code",
   "execution_count": 5,
   "id": "3af3ddbe",
   "metadata": {
    "ExecuteTime": {
     "end_time": "2022-09-16T08:30:49.455876Z",
     "start_time": "2022-09-16T08:30:36.441022Z"
    }
   },
   "outputs": [],
   "source": [
    "X_ = []\n",
    "for i in range(len(X)):\n",
    "    input_data = X[i]\n",
    "    interpreter.invoke()\n",
    "    interpreter.set_tensor(input['index'], [input_data])\n",
    "    X_.append(interpreter.get_tensor(output_details[0]['index']))\n",
    "X_ = np.array(X_).reshape(len(X_), 51)"
   ]
  },
  {
   "cell_type": "markdown",
   "id": "776bcd88",
   "metadata": {},
   "source": [
    "X: image resized by 192 for te_lite  \n",
    "y: label for stretching pose  \n",
    "X_: nparray returned by tflite by X\n",
    "X_for_visualize: 480x640 image for visualize\n",
    "X_train, X_test, y_train, y_test:   \n",
    "모델 학습을 위하여 nparray를 쪼갬(이미지가 아니라는 점에 주의)"
   ]
  },
  {
   "cell_type": "markdown",
   "id": "27f0a5ee",
   "metadata": {},
   "source": [
    "# Tuning model"
   ]
  },
  {
   "cell_type": "code",
   "execution_count": 6,
   "id": "098c33cc",
   "metadata": {
    "ExecuteTime": {
     "end_time": "2022-09-16T08:30:49.470908Z",
     "start_time": "2022-09-16T08:30:49.457882Z"
    }
   },
   "outputs": [],
   "source": [
    "X_train, X_test, y_train, y_test = train_test_split(X_, y)"
   ]
  },
  {
   "cell_type": "code",
   "execution_count": 7,
   "id": "4f2da376",
   "metadata": {
    "ExecuteTime": {
     "end_time": "2022-09-16T08:30:49.613650Z",
     "start_time": "2022-09-16T08:30:49.471910Z"
    }
   },
   "outputs": [
    {
     "data": {
      "text/plain": [
       "0.9695652173913043"
      ]
     },
     "execution_count": 7,
     "metadata": {},
     "output_type": "execute_result"
    }
   ],
   "source": [
    "model = RandomForestClassifier(n_estimators=50, max_depth=6)\n",
    "model.fit(X_train, y_train)\n",
    "model.score(X_test, y_test)"
   ]
  },
  {
   "cell_type": "code",
   "execution_count": 21,
   "id": "c94bb14a",
   "metadata": {
    "ExecuteTime": {
     "end_time": "2022-09-16T08:31:12.925248Z",
     "start_time": "2022-09-16T08:31:12.903239Z"
    }
   },
   "outputs": [
    {
     "name": "stdout",
     "output_type": "stream",
     "text": [
      "CPU times: total: 15.6 ms\n",
      "Wall time: 5 ms\n"
     ]
    },
    {
     "data": {
      "text/plain": [
       "array([4])"
      ]
     },
     "execution_count": 21,
     "metadata": {},
     "output_type": "execute_result"
    }
   ],
   "source": [
    "%%time\n",
    "model.predict([X_[500]])"
   ]
  },
  {
   "cell_type": "markdown",
   "id": "7e8db877",
   "metadata": {},
   "source": [
    "# Save model by .pkl"
   ]
  },
  {
   "cell_type": "code",
   "execution_count": 24,
   "id": "d648a978",
   "metadata": {
    "ExecuteTime": {
     "end_time": "2022-09-16T08:36:11.618878Z",
     "start_time": "2022-09-16T08:36:11.575231Z"
    }
   },
   "outputs": [
    {
     "data": {
      "text/plain": [
       "['./image_model.pkl']"
      ]
     },
     "execution_count": 24,
     "metadata": {},
     "output_type": "execute_result"
    }
   ],
   "source": [
    "joblib.dump(model, \"./image_model.pkl\")"
   ]
  },
  {
   "cell_type": "code",
   "execution_count": 26,
   "id": "31f6c4da",
   "metadata": {
    "ExecuteTime": {
     "end_time": "2022-09-16T08:36:27.196999Z",
     "start_time": "2022-09-16T08:36:27.164866Z"
    }
   },
   "outputs": [],
   "source": [
    "test_model = joblib.load(\"./image_model.pkl\")"
   ]
  },
  {
   "cell_type": "code",
   "execution_count": null,
   "id": "38caab8d",
   "metadata": {},
   "outputs": [],
   "source": []
  }
 ],
 "metadata": {
  "kernelspec": {
   "display_name": "raspberry",
   "language": "python",
   "name": "raspberry"
  },
  "language_info": {
   "codemirror_mode": {
    "name": "ipython",
    "version": 3
   },
   "file_extension": ".py",
   "mimetype": "text/x-python",
   "name": "python",
   "nbconvert_exporter": "python",
   "pygments_lexer": "ipython3",
   "version": "3.9.2"
  },
  "toc": {
   "base_numbering": 1,
   "nav_menu": {},
   "number_sections": true,
   "sideBar": true,
   "skip_h1_title": false,
   "title_cell": "Table of Contents",
   "title_sidebar": "Contents",
   "toc_cell": false,
   "toc_position": {},
   "toc_section_display": true,
   "toc_window_display": true
  }
 },
 "nbformat": 4,
 "nbformat_minor": 5
}
