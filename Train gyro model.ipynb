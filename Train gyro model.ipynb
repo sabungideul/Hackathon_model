{
 "cells": [
  {
   "cell_type": "code",
   "execution_count": 2,
   "id": "bc9c12c0",
   "metadata": {
    "ExecuteTime": {
     "end_time": "2022-09-16T10:19:45.882085Z",
     "start_time": "2022-09-16T10:19:45.873041Z"
    }
   },
   "outputs": [],
   "source": [
    "import numpy as np\n",
    "import pandas as pd\n",
    "from sklearn.model_selection import train_test_split\n",
    "from sklearn.ensemble import RandomForestClassifier\n",
    "import joblib"
   ]
  },
  {
   "cell_type": "code",
   "execution_count": 11,
   "id": "acb84d4e",
   "metadata": {
    "ExecuteTime": {
     "end_time": "2022-09-16T10:21:11.111077Z",
     "start_time": "2022-09-16T10:21:11.084075Z"
    }
   },
   "outputs": [],
   "source": [
    "data = pd.read_csv(\"../dataset_l.csv\", header=None)"
   ]
  },
  {
   "cell_type": "code",
   "execution_count": 13,
   "id": "58a629e0",
   "metadata": {
    "ExecuteTime": {
     "end_time": "2022-09-16T10:21:21.397101Z",
     "start_time": "2022-09-16T10:21:21.373706Z"
    }
   },
   "outputs": [
    {
     "data": {
      "text/html": [
       "<div>\n",
       "<style scoped>\n",
       "    .dataframe tbody tr th:only-of-type {\n",
       "        vertical-align: middle;\n",
       "    }\n",
       "\n",
       "    .dataframe tbody tr th {\n",
       "        vertical-align: top;\n",
       "    }\n",
       "\n",
       "    .dataframe thead th {\n",
       "        text-align: right;\n",
       "    }\n",
       "</style>\n",
       "<table border=\"1\" class=\"dataframe\">\n",
       "  <thead>\n",
       "    <tr style=\"text-align: right;\">\n",
       "      <th></th>\n",
       "      <th>0</th>\n",
       "      <th>1</th>\n",
       "      <th>2</th>\n",
       "      <th>3</th>\n",
       "      <th>4</th>\n",
       "      <th>5</th>\n",
       "      <th>6</th>\n",
       "      <th>7</th>\n",
       "      <th>8</th>\n",
       "      <th>9</th>\n",
       "    </tr>\n",
       "  </thead>\n",
       "  <tbody>\n",
       "    <tr>\n",
       "      <th>0</th>\n",
       "      <td>1.431733</td>\n",
       "      <td>-9.710882</td>\n",
       "      <td>1.326388</td>\n",
       "      <td>7.328244</td>\n",
       "      <td>5.335878</td>\n",
       "      <td>-0.152672</td>\n",
       "      <td>7353.6</td>\n",
       "      <td>-2537.4</td>\n",
       "      <td>4454.7</td>\n",
       "      <td>1</td>\n",
       "    </tr>\n",
       "    <tr>\n",
       "      <th>1</th>\n",
       "      <td>1.376666</td>\n",
       "      <td>-9.481039</td>\n",
       "      <td>1.350330</td>\n",
       "      <td>2.396947</td>\n",
       "      <td>0.648855</td>\n",
       "      <td>-1.893130</td>\n",
       "      <td>7353.6</td>\n",
       "      <td>-2537.4</td>\n",
       "      <td>4454.7</td>\n",
       "      <td>1</td>\n",
       "    </tr>\n",
       "    <tr>\n",
       "      <th>2</th>\n",
       "      <td>1.096544</td>\n",
       "      <td>-9.701305</td>\n",
       "      <td>1.383849</td>\n",
       "      <td>-2.343511</td>\n",
       "      <td>0.282443</td>\n",
       "      <td>-0.870229</td>\n",
       "      <td>7353.6</td>\n",
       "      <td>-2537.4</td>\n",
       "      <td>4454.7</td>\n",
       "      <td>1</td>\n",
       "    </tr>\n",
       "    <tr>\n",
       "      <th>3</th>\n",
       "      <td>1.189918</td>\n",
       "      <td>-9.344569</td>\n",
       "      <td>1.757344</td>\n",
       "      <td>-0.664122</td>\n",
       "      <td>-26.381679</td>\n",
       "      <td>0.122137</td>\n",
       "      <td>7353.6</td>\n",
       "      <td>-2537.4</td>\n",
       "      <td>4454.7</td>\n",
       "      <td>1</td>\n",
       "    </tr>\n",
       "    <tr>\n",
       "      <th>4</th>\n",
       "      <td>1.819593</td>\n",
       "      <td>-9.789891</td>\n",
       "      <td>0.438139</td>\n",
       "      <td>-1.732824</td>\n",
       "      <td>-2.442748</td>\n",
       "      <td>-2.961832</td>\n",
       "      <td>7353.6</td>\n",
       "      <td>-2537.4</td>\n",
       "      <td>4454.7</td>\n",
       "      <td>1</td>\n",
       "    </tr>\n",
       "    <tr>\n",
       "      <th>...</th>\n",
       "      <td>...</td>\n",
       "      <td>...</td>\n",
       "      <td>...</td>\n",
       "      <td>...</td>\n",
       "      <td>...</td>\n",
       "      <td>...</td>\n",
       "      <td>...</td>\n",
       "      <td>...</td>\n",
       "      <td>...</td>\n",
       "      <td>...</td>\n",
       "    </tr>\n",
       "    <tr>\n",
       "      <th>3635</th>\n",
       "      <td>3.450045</td>\n",
       "      <td>-9.320627</td>\n",
       "      <td>0.974440</td>\n",
       "      <td>-4.236641</td>\n",
       "      <td>2.167939</td>\n",
       "      <td>-2.534351</td>\n",
       "      <td>7353.6</td>\n",
       "      <td>-2537.4</td>\n",
       "      <td>4454.7</td>\n",
       "      <td>7</td>\n",
       "    </tr>\n",
       "    <tr>\n",
       "      <th>3636</th>\n",
       "      <td>3.835511</td>\n",
       "      <td>-8.956708</td>\n",
       "      <td>0.538695</td>\n",
       "      <td>-4.488550</td>\n",
       "      <td>-1.870229</td>\n",
       "      <td>-1.381679</td>\n",
       "      <td>7353.6</td>\n",
       "      <td>-2537.4</td>\n",
       "      <td>4454.7</td>\n",
       "      <td>7</td>\n",
       "    </tr>\n",
       "    <tr>\n",
       "      <th>3637</th>\n",
       "      <td>3.605668</td>\n",
       "      <td>-8.784326</td>\n",
       "      <td>0.447716</td>\n",
       "      <td>-3.801527</td>\n",
       "      <td>-3.335878</td>\n",
       "      <td>0.358779</td>\n",
       "      <td>7353.6</td>\n",
       "      <td>-2537.4</td>\n",
       "      <td>4454.7</td>\n",
       "      <td>7</td>\n",
       "    </tr>\n",
       "    <tr>\n",
       "      <th>3638</th>\n",
       "      <td>3.574543</td>\n",
       "      <td>-9.083601</td>\n",
       "      <td>0.531513</td>\n",
       "      <td>-3.366412</td>\n",
       "      <td>0.526718</td>\n",
       "      <td>-0.534351</td>\n",
       "      <td>7353.6</td>\n",
       "      <td>-2537.4</td>\n",
       "      <td>4454.7</td>\n",
       "      <td>7</td>\n",
       "    </tr>\n",
       "    <tr>\n",
       "      <th>3639</th>\n",
       "      <td>3.450045</td>\n",
       "      <td>-9.181763</td>\n",
       "      <td>0.512359</td>\n",
       "      <td>0.137405</td>\n",
       "      <td>-0.549618</td>\n",
       "      <td>-0.984733</td>\n",
       "      <td>7353.6</td>\n",
       "      <td>-2537.4</td>\n",
       "      <td>4454.7</td>\n",
       "      <td>7</td>\n",
       "    </tr>\n",
       "  </tbody>\n",
       "</table>\n",
       "<p>3640 rows × 10 columns</p>\n",
       "</div>"
      ],
      "text/plain": [
       "             0         1         2         3          4         5       6  \\\n",
       "0     1.431733 -9.710882  1.326388  7.328244   5.335878 -0.152672  7353.6   \n",
       "1     1.376666 -9.481039  1.350330  2.396947   0.648855 -1.893130  7353.6   \n",
       "2     1.096544 -9.701305  1.383849 -2.343511   0.282443 -0.870229  7353.6   \n",
       "3     1.189918 -9.344569  1.757344 -0.664122 -26.381679  0.122137  7353.6   \n",
       "4     1.819593 -9.789891  0.438139 -1.732824  -2.442748 -2.961832  7353.6   \n",
       "...        ...       ...       ...       ...        ...       ...     ...   \n",
       "3635  3.450045 -9.320627  0.974440 -4.236641   2.167939 -2.534351  7353.6   \n",
       "3636  3.835511 -8.956708  0.538695 -4.488550  -1.870229 -1.381679  7353.6   \n",
       "3637  3.605668 -8.784326  0.447716 -3.801527  -3.335878  0.358779  7353.6   \n",
       "3638  3.574543 -9.083601  0.531513 -3.366412   0.526718 -0.534351  7353.6   \n",
       "3639  3.450045 -9.181763  0.512359  0.137405  -0.549618 -0.984733  7353.6   \n",
       "\n",
       "           7       8  9  \n",
       "0    -2537.4  4454.7  1  \n",
       "1    -2537.4  4454.7  1  \n",
       "2    -2537.4  4454.7  1  \n",
       "3    -2537.4  4454.7  1  \n",
       "4    -2537.4  4454.7  1  \n",
       "...      ...     ... ..  \n",
       "3635 -2537.4  4454.7  7  \n",
       "3636 -2537.4  4454.7  7  \n",
       "3637 -2537.4  4454.7  7  \n",
       "3638 -2537.4  4454.7  7  \n",
       "3639 -2537.4  4454.7  7  \n",
       "\n",
       "[3640 rows x 10 columns]"
      ]
     },
     "execution_count": 13,
     "metadata": {},
     "output_type": "execute_result"
    }
   ],
   "source": [
    "data"
   ]
  },
  {
   "cell_type": "code",
   "execution_count": 14,
   "id": "73d2dcb1",
   "metadata": {
    "ExecuteTime": {
     "end_time": "2022-09-16T10:21:24.391876Z",
     "start_time": "2022-09-16T10:21:24.378873Z"
    }
   },
   "outputs": [
    {
     "data": {
      "text/plain": [
       "0       1.431733\n",
       "1       1.376666\n",
       "2       1.096544\n",
       "3       1.189918\n",
       "4       1.819593\n",
       "          ...   \n",
       "3635    3.450045\n",
       "3636    3.835511\n",
       "3637    3.605668\n",
       "3638    3.574543\n",
       "3639    3.450045\n",
       "Name: 0, Length: 3640, dtype: float64"
      ]
     },
     "execution_count": 14,
     "metadata": {},
     "output_type": "execute_result"
    }
   ],
   "source": [
    "data[0]"
   ]
  },
  {
   "cell_type": "code",
   "execution_count": 15,
   "id": "ba64c9a1",
   "metadata": {
    "ExecuteTime": {
     "end_time": "2022-09-16T10:21:38.474698Z",
     "start_time": "2022-09-16T10:21:38.459638Z"
    }
   },
   "outputs": [],
   "source": [
    "X, y = data[[0,1,2,3,4,5]], data[9]"
   ]
  },
  {
   "cell_type": "code",
   "execution_count": 18,
   "id": "2c139ed4",
   "metadata": {
    "ExecuteTime": {
     "end_time": "2022-09-16T10:21:58.340646Z",
     "start_time": "2022-09-16T10:21:58.321631Z"
    }
   },
   "outputs": [],
   "source": [
    "X_train, X_test, y_train, y_test = train_test_split(X, y)"
   ]
  },
  {
   "cell_type": "code",
   "execution_count": 19,
   "id": "75e4e414",
   "metadata": {
    "ExecuteTime": {
     "end_time": "2022-09-16T10:22:14.765475Z",
     "start_time": "2022-09-16T10:22:14.448046Z"
    }
   },
   "outputs": [
    {
     "data": {
      "text/plain": [
       "0.9934065934065934"
      ]
     },
     "execution_count": 19,
     "metadata": {},
     "output_type": "execute_result"
    }
   ],
   "source": [
    "model = RandomForestClassifier()\n",
    "model.fit(X_train, y_train)\n",
    "model.score(X_test, y_test)"
   ]
  },
  {
   "cell_type": "code",
   "execution_count": 23,
   "id": "7e6f52e1",
   "metadata": {
    "ExecuteTime": {
     "end_time": "2022-09-16T10:23:12.505940Z",
     "start_time": "2022-09-16T10:23:12.490906Z"
    }
   },
   "outputs": [],
   "source": [
    "temp = -0.004886922,0.012217305,0.010995574,8.920795,-0.51475334,3.86903"
   ]
  },
  {
   "cell_type": "code",
   "execution_count": 24,
   "id": "7ddd3e76",
   "metadata": {
    "ExecuteTime": {
     "end_time": "2022-09-16T10:23:13.731153Z",
     "start_time": "2022-09-16T10:23:13.712094Z"
    }
   },
   "outputs": [
    {
     "data": {
      "text/plain": [
       "array([3], dtype=int64)"
      ]
     },
     "execution_count": 24,
     "metadata": {},
     "output_type": "execute_result"
    }
   ],
   "source": [
    "model.predict([temp])"
   ]
  },
  {
   "cell_type": "code",
   "execution_count": null,
   "id": "c86660d1",
   "metadata": {},
   "outputs": [],
   "source": []
  }
 ],
 "metadata": {
  "kernelspec": {
   "display_name": "raspberry",
   "language": "python",
   "name": "raspberry"
  },
  "language_info": {
   "codemirror_mode": {
    "name": "ipython",
    "version": 3
   },
   "file_extension": ".py",
   "mimetype": "text/x-python",
   "name": "python",
   "nbconvert_exporter": "python",
   "pygments_lexer": "ipython3",
   "version": "3.9.2"
  },
  "toc": {
   "base_numbering": 1,
   "nav_menu": {},
   "number_sections": true,
   "sideBar": true,
   "skip_h1_title": false,
   "title_cell": "Table of Contents",
   "title_sidebar": "Contents",
   "toc_cell": false,
   "toc_position": {},
   "toc_section_display": true,
   "toc_window_display": false
  }
 },
 "nbformat": 4,
 "nbformat_minor": 5
}
