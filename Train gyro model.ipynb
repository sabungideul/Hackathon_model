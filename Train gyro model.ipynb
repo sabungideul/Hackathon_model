{
 "cells": [
  {
   "cell_type": "code",
   "execution_count": 72,
   "id": "bc9c12c0",
   "metadata": {
    "ExecuteTime": {
     "end_time": "2022-09-16T11:40:10.365661Z",
     "start_time": "2022-09-16T11:40:10.354467Z"
    }
   },
   "outputs": [],
   "source": [
    "import numpy as np\n",
    "import pandas as pd\n",
    "from sklearn.model_selection import train_test_split\n",
    "from sklearn.ensemble import RandomForestClassifier\n",
    "import joblib\n",
    "from sklearn.model_selection import cross_val_score"
   ]
  },
  {
   "cell_type": "code",
   "execution_count": 30,
   "id": "acb84d4e",
   "metadata": {
    "ExecuteTime": {
     "end_time": "2022-09-16T11:36:18.371724Z",
     "start_time": "2022-09-16T11:36:18.303691Z"
    }
   },
   "outputs": [],
   "source": [
    "data = pd.read_csv(\"./left_Hand.csv\")"
   ]
  },
  {
   "cell_type": "code",
   "execution_count": 31,
   "id": "58a629e0",
   "metadata": {
    "ExecuteTime": {
     "end_time": "2022-09-16T11:36:18.650046Z",
     "start_time": "2022-09-16T11:36:18.632997Z"
    }
   },
   "outputs": [
    {
     "data": {
      "text/html": [
       "<div>\n",
       "<style scoped>\n",
       "    .dataframe tbody tr th:only-of-type {\n",
       "        vertical-align: middle;\n",
       "    }\n",
       "\n",
       "    .dataframe tbody tr th {\n",
       "        vertical-align: top;\n",
       "    }\n",
       "\n",
       "    .dataframe thead th {\n",
       "        text-align: right;\n",
       "    }\n",
       "</style>\n",
       "<table border=\"1\" class=\"dataframe\">\n",
       "  <thead>\n",
       "    <tr style=\"text-align: right;\">\n",
       "      <th></th>\n",
       "      <th>Gyro_x</th>\n",
       "      <th>Gyro_y</th>\n",
       "      <th>Gyro_z</th>\n",
       "      <th>Acc_x</th>\n",
       "      <th>Acc_y</th>\n",
       "      <th>Acc_z</th>\n",
       "      <th>Label</th>\n",
       "    </tr>\n",
       "  </thead>\n",
       "  <tbody>\n",
       "    <tr>\n",
       "      <th>0</th>\n",
       "      <td>-0.032987</td>\n",
       "      <td>-0.025656</td>\n",
       "      <td>-0.068417</td>\n",
       "      <td>9.550470</td>\n",
       "      <td>-1.022324</td>\n",
       "      <td>-0.914585</td>\n",
       "      <td>1</td>\n",
       "    </tr>\n",
       "    <tr>\n",
       "      <th>1</th>\n",
       "      <td>-0.032987</td>\n",
       "      <td>-0.025656</td>\n",
       "      <td>-0.068417</td>\n",
       "      <td>9.473856</td>\n",
       "      <td>-1.031901</td>\n",
       "      <td>-0.950498</td>\n",
       "      <td>1</td>\n",
       "    </tr>\n",
       "    <tr>\n",
       "      <th>2</th>\n",
       "      <td>-0.047647</td>\n",
       "      <td>-0.031765</td>\n",
       "      <td>-0.078191</td>\n",
       "      <td>9.473856</td>\n",
       "      <td>-1.031901</td>\n",
       "      <td>-0.950498</td>\n",
       "      <td>1</td>\n",
       "    </tr>\n",
       "    <tr>\n",
       "      <th>3</th>\n",
       "      <td>-0.047647</td>\n",
       "      <td>-0.031765</td>\n",
       "      <td>-0.078191</td>\n",
       "      <td>9.495404</td>\n",
       "      <td>-0.933739</td>\n",
       "      <td>-1.003170</td>\n",
       "      <td>1</td>\n",
       "    </tr>\n",
       "    <tr>\n",
       "      <th>4</th>\n",
       "      <td>-0.040317</td>\n",
       "      <td>-0.041539</td>\n",
       "      <td>-0.084299</td>\n",
       "      <td>9.495404</td>\n",
       "      <td>-0.933739</td>\n",
       "      <td>-1.003170</td>\n",
       "      <td>1</td>\n",
       "    </tr>\n",
       "    <tr>\n",
       "      <th>...</th>\n",
       "      <td>...</td>\n",
       "      <td>...</td>\n",
       "      <td>...</td>\n",
       "      <td>...</td>\n",
       "      <td>...</td>\n",
       "      <td>...</td>\n",
       "      <td>...</td>\n",
       "    </tr>\n",
       "    <tr>\n",
       "      <th>69523</th>\n",
       "      <td>-0.053756</td>\n",
       "      <td>-0.026878</td>\n",
       "      <td>0.035430</td>\n",
       "      <td>8.628703</td>\n",
       "      <td>2.303222</td>\n",
       "      <td>-4.235343</td>\n",
       "      <td>7</td>\n",
       "    </tr>\n",
       "    <tr>\n",
       "      <th>69524</th>\n",
       "      <td>-0.030543</td>\n",
       "      <td>-0.006109</td>\n",
       "      <td>0.021991</td>\n",
       "      <td>8.628703</td>\n",
       "      <td>2.303222</td>\n",
       "      <td>-4.235343</td>\n",
       "      <td>7</td>\n",
       "    </tr>\n",
       "    <tr>\n",
       "      <th>69525</th>\n",
       "      <td>-0.030543</td>\n",
       "      <td>-0.006109</td>\n",
       "      <td>0.021991</td>\n",
       "      <td>8.662222</td>\n",
       "      <td>2.243367</td>\n",
       "      <td>-4.242526</td>\n",
       "      <td>7</td>\n",
       "    </tr>\n",
       "    <tr>\n",
       "      <th>69526</th>\n",
       "      <td>-0.024435</td>\n",
       "      <td>0.010996</td>\n",
       "      <td>0.024435</td>\n",
       "      <td>8.662222</td>\n",
       "      <td>2.243367</td>\n",
       "      <td>-4.242526</td>\n",
       "      <td>7</td>\n",
       "    </tr>\n",
       "    <tr>\n",
       "      <th>69527</th>\n",
       "      <td>-0.024435</td>\n",
       "      <td>0.010996</td>\n",
       "      <td>0.024435</td>\n",
       "      <td>8.559271</td>\n",
       "      <td>2.104503</td>\n",
       "      <td>-4.204218</td>\n",
       "      <td>7</td>\n",
       "    </tr>\n",
       "  </tbody>\n",
       "</table>\n",
       "<p>69528 rows × 7 columns</p>\n",
       "</div>"
      ],
      "text/plain": [
       "         Gyro_x    Gyro_y    Gyro_z     Acc_x     Acc_y     Acc_z  Label\n",
       "0     -0.032987 -0.025656 -0.068417  9.550470 -1.022324 -0.914585      1\n",
       "1     -0.032987 -0.025656 -0.068417  9.473856 -1.031901 -0.950498      1\n",
       "2     -0.047647 -0.031765 -0.078191  9.473856 -1.031901 -0.950498      1\n",
       "3     -0.047647 -0.031765 -0.078191  9.495404 -0.933739 -1.003170      1\n",
       "4     -0.040317 -0.041539 -0.084299  9.495404 -0.933739 -1.003170      1\n",
       "...         ...       ...       ...       ...       ...       ...    ...\n",
       "69523 -0.053756 -0.026878  0.035430  8.628703  2.303222 -4.235343      7\n",
       "69524 -0.030543 -0.006109  0.021991  8.628703  2.303222 -4.235343      7\n",
       "69525 -0.030543 -0.006109  0.021991  8.662222  2.243367 -4.242526      7\n",
       "69526 -0.024435  0.010996  0.024435  8.662222  2.243367 -4.242526      7\n",
       "69527 -0.024435  0.010996  0.024435  8.559271  2.104503 -4.204218      7\n",
       "\n",
       "[69528 rows x 7 columns]"
      ]
     },
     "execution_count": 31,
     "metadata": {},
     "output_type": "execute_result"
    }
   ],
   "source": [
    "data"
   ]
  },
  {
   "cell_type": "code",
   "execution_count": 39,
   "id": "ba64c9a1",
   "metadata": {
    "ExecuteTime": {
     "end_time": "2022-09-16T11:37:17.303592Z",
     "start_time": "2022-09-16T11:37:17.287550Z"
    }
   },
   "outputs": [],
   "source": [
    "X, y = data[data.columns[:6]], data[\"Label\"]"
   ]
  },
  {
   "cell_type": "code",
   "execution_count": 40,
   "id": "2c139ed4",
   "metadata": {
    "ExecuteTime": {
     "end_time": "2022-09-16T11:37:17.708448Z",
     "start_time": "2022-09-16T11:37:17.689494Z"
    }
   },
   "outputs": [],
   "source": [
    "X_train, X_test, y_train, y_test = train_test_split(X, y)"
   ]
  },
  {
   "cell_type": "code",
   "execution_count": 78,
   "id": "75e4e414",
   "metadata": {
    "ExecuteTime": {
     "end_time": "2022-09-16T11:41:47.814894Z",
     "start_time": "2022-09-16T11:41:47.676869Z"
    }
   },
   "outputs": [
    {
     "data": {
      "text/plain": [
       "0.9926935910712231"
      ]
     },
     "execution_count": 78,
     "metadata": {},
     "output_type": "execute_result"
    }
   ],
   "source": [
    "model = RandomForestClassifier(max_depth=4, n_estimators=5)\n",
    "model.fit(X_train, y_train)\n",
    "model.score(X_test, y_test)"
   ]
  },
  {
   "cell_type": "code",
   "execution_count": 76,
   "id": "c86660d1",
   "metadata": {
    "ExecuteTime": {
     "end_time": "2022-09-16T11:40:44.267400Z",
     "start_time": "2022-09-16T11:40:42.939938Z"
    }
   },
   "outputs": [
    {
     "name": "stdout",
     "output_type": "stream",
     "text": [
      "[0.9848986  0.99597296 0.99410326 0.96591399 0.9640443  0.92578743\n",
      " 0.99913706 0.98935711 0.98734177 0.97051208]\n"
     ]
    }
   ],
   "source": [
    "print(cross_val_score(model, X, y, cv=10))"
   ]
  },
  {
   "cell_type": "code",
   "execution_count": 95,
   "id": "7cfa74a9",
   "metadata": {
    "ExecuteTime": {
     "end_time": "2022-09-16T11:46:35.226251Z",
     "start_time": "2022-09-16T11:46:35.217258Z"
    }
   },
   "outputs": [
    {
     "data": {
      "text/plain": [
       "array([-0.0122173 , -0.05497787,  0.01710423, -2.6001031 , -9.3182335 ,\n",
       "        1.0462662 ])"
      ]
     },
     "execution_count": 95,
     "metadata": {},
     "output_type": "execute_result"
    }
   ],
   "source": [
    "np.array(X_test.iloc[0])"
   ]
  },
  {
   "cell_type": "code",
   "execution_count": 79,
   "id": "2d2b2dde",
   "metadata": {
    "ExecuteTime": {
     "end_time": "2022-09-16T11:41:49.228605Z",
     "start_time": "2022-09-16T11:41:49.217607Z"
    }
   },
   "outputs": [
    {
     "data": {
      "text/plain": [
       "['./gyro_model.pkl']"
      ]
     },
     "execution_count": 79,
     "metadata": {},
     "output_type": "execute_result"
    }
   ],
   "source": [
    "joblib.dump(model, \"./gyro_model.pkl\")"
   ]
  }
 ],
 "metadata": {
  "kernelspec": {
   "display_name": "raspberry",
   "language": "python",
   "name": "raspberry"
  },
  "language_info": {
   "codemirror_mode": {
    "name": "ipython",
    "version": 3
   },
   "file_extension": ".py",
   "mimetype": "text/x-python",
   "name": "python",
   "nbconvert_exporter": "python",
   "pygments_lexer": "ipython3",
   "version": "3.9.2"
  },
  "toc": {
   "base_numbering": 1,
   "nav_menu": {},
   "number_sections": true,
   "sideBar": true,
   "skip_h1_title": false,
   "title_cell": "Table of Contents",
   "title_sidebar": "Contents",
   "toc_cell": false,
   "toc_position": {},
   "toc_section_display": true,
   "toc_window_display": false
  }
 },
 "nbformat": 4,
 "nbformat_minor": 5
}
